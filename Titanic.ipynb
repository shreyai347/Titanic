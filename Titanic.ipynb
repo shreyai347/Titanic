{
  "nbformat": 4,
  "nbformat_minor": 0,
  "metadata": {
    "colab": {
      "provenance": []
    },
    "kernelspec": {
      "name": "python3",
      "display_name": "Python 3"
    },
    "language_info": {
      "name": "python"
    }
  },
  "cells": [
    {
      "cell_type": "code",
      "execution_count": 1,
      "metadata": {
        "id": "drVKFuK-xKki"
      },
      "outputs": [],
      "source": [
        "import pandas as pd"
      ]
    },
    {
      "cell_type": "code",
      "source": [
        "from google.colab import files\n",
        "uploaded = files.upload()\n"
      ],
      "metadata": {
        "colab": {
          "base_uri": "https://localhost:8080/",
          "height": 73
        },
        "id": "9QvJ1fzfxT00",
        "outputId": "eed2fe98-31d0-42c3-e6dc-81efa9ead22e"
      },
      "execution_count": 2,
      "outputs": [
        {
          "output_type": "display_data",
          "data": {
            "text/plain": [
              "<IPython.core.display.HTML object>"
            ],
            "text/html": [
              "\n",
              "     <input type=\"file\" id=\"files-9730ede0-7b53-43b6-80fc-fcca88be4c1e\" name=\"files[]\" multiple disabled\n",
              "        style=\"border:none\" />\n",
              "     <output id=\"result-9730ede0-7b53-43b6-80fc-fcca88be4c1e\">\n",
              "      Upload widget is only available when the cell has been executed in the\n",
              "      current browser session. Please rerun this cell to enable.\n",
              "      </output>\n",
              "      <script>// Copyright 2017 Google LLC\n",
              "//\n",
              "// Licensed under the Apache License, Version 2.0 (the \"License\");\n",
              "// you may not use this file except in compliance with the License.\n",
              "// You may obtain a copy of the License at\n",
              "//\n",
              "//      http://www.apache.org/licenses/LICENSE-2.0\n",
              "//\n",
              "// Unless required by applicable law or agreed to in writing, software\n",
              "// distributed under the License is distributed on an \"AS IS\" BASIS,\n",
              "// WITHOUT WARRANTIES OR CONDITIONS OF ANY KIND, either express or implied.\n",
              "// See the License for the specific language governing permissions and\n",
              "// limitations under the License.\n",
              "\n",
              "/**\n",
              " * @fileoverview Helpers for google.colab Python module.\n",
              " */\n",
              "(function(scope) {\n",
              "function span(text, styleAttributes = {}) {\n",
              "  const element = document.createElement('span');\n",
              "  element.textContent = text;\n",
              "  for (const key of Object.keys(styleAttributes)) {\n",
              "    element.style[key] = styleAttributes[key];\n",
              "  }\n",
              "  return element;\n",
              "}\n",
              "\n",
              "// Max number of bytes which will be uploaded at a time.\n",
              "const MAX_PAYLOAD_SIZE = 100 * 1024;\n",
              "\n",
              "function _uploadFiles(inputId, outputId) {\n",
              "  const steps = uploadFilesStep(inputId, outputId);\n",
              "  const outputElement = document.getElementById(outputId);\n",
              "  // Cache steps on the outputElement to make it available for the next call\n",
              "  // to uploadFilesContinue from Python.\n",
              "  outputElement.steps = steps;\n",
              "\n",
              "  return _uploadFilesContinue(outputId);\n",
              "}\n",
              "\n",
              "// This is roughly an async generator (not supported in the browser yet),\n",
              "// where there are multiple asynchronous steps and the Python side is going\n",
              "// to poll for completion of each step.\n",
              "// This uses a Promise to block the python side on completion of each step,\n",
              "// then passes the result of the previous step as the input to the next step.\n",
              "function _uploadFilesContinue(outputId) {\n",
              "  const outputElement = document.getElementById(outputId);\n",
              "  const steps = outputElement.steps;\n",
              "\n",
              "  const next = steps.next(outputElement.lastPromiseValue);\n",
              "  return Promise.resolve(next.value.promise).then((value) => {\n",
              "    // Cache the last promise value to make it available to the next\n",
              "    // step of the generator.\n",
              "    outputElement.lastPromiseValue = value;\n",
              "    return next.value.response;\n",
              "  });\n",
              "}\n",
              "\n",
              "/**\n",
              " * Generator function which is called between each async step of the upload\n",
              " * process.\n",
              " * @param {string} inputId Element ID of the input file picker element.\n",
              " * @param {string} outputId Element ID of the output display.\n",
              " * @return {!Iterable<!Object>} Iterable of next steps.\n",
              " */\n",
              "function* uploadFilesStep(inputId, outputId) {\n",
              "  const inputElement = document.getElementById(inputId);\n",
              "  inputElement.disabled = false;\n",
              "\n",
              "  const outputElement = document.getElementById(outputId);\n",
              "  outputElement.innerHTML = '';\n",
              "\n",
              "  const pickedPromise = new Promise((resolve) => {\n",
              "    inputElement.addEventListener('change', (e) => {\n",
              "      resolve(e.target.files);\n",
              "    });\n",
              "  });\n",
              "\n",
              "  const cancel = document.createElement('button');\n",
              "  inputElement.parentElement.appendChild(cancel);\n",
              "  cancel.textContent = 'Cancel upload';\n",
              "  const cancelPromise = new Promise((resolve) => {\n",
              "    cancel.onclick = () => {\n",
              "      resolve(null);\n",
              "    };\n",
              "  });\n",
              "\n",
              "  // Wait for the user to pick the files.\n",
              "  const files = yield {\n",
              "    promise: Promise.race([pickedPromise, cancelPromise]),\n",
              "    response: {\n",
              "      action: 'starting',\n",
              "    }\n",
              "  };\n",
              "\n",
              "  cancel.remove();\n",
              "\n",
              "  // Disable the input element since further picks are not allowed.\n",
              "  inputElement.disabled = true;\n",
              "\n",
              "  if (!files) {\n",
              "    return {\n",
              "      response: {\n",
              "        action: 'complete',\n",
              "      }\n",
              "    };\n",
              "  }\n",
              "\n",
              "  for (const file of files) {\n",
              "    const li = document.createElement('li');\n",
              "    li.append(span(file.name, {fontWeight: 'bold'}));\n",
              "    li.append(span(\n",
              "        `(${file.type || 'n/a'}) - ${file.size} bytes, ` +\n",
              "        `last modified: ${\n",
              "            file.lastModifiedDate ? file.lastModifiedDate.toLocaleDateString() :\n",
              "                                    'n/a'} - `));\n",
              "    const percent = span('0% done');\n",
              "    li.appendChild(percent);\n",
              "\n",
              "    outputElement.appendChild(li);\n",
              "\n",
              "    const fileDataPromise = new Promise((resolve) => {\n",
              "      const reader = new FileReader();\n",
              "      reader.onload = (e) => {\n",
              "        resolve(e.target.result);\n",
              "      };\n",
              "      reader.readAsArrayBuffer(file);\n",
              "    });\n",
              "    // Wait for the data to be ready.\n",
              "    let fileData = yield {\n",
              "      promise: fileDataPromise,\n",
              "      response: {\n",
              "        action: 'continue',\n",
              "      }\n",
              "    };\n",
              "\n",
              "    // Use a chunked sending to avoid message size limits. See b/62115660.\n",
              "    let position = 0;\n",
              "    do {\n",
              "      const length = Math.min(fileData.byteLength - position, MAX_PAYLOAD_SIZE);\n",
              "      const chunk = new Uint8Array(fileData, position, length);\n",
              "      position += length;\n",
              "\n",
              "      const base64 = btoa(String.fromCharCode.apply(null, chunk));\n",
              "      yield {\n",
              "        response: {\n",
              "          action: 'append',\n",
              "          file: file.name,\n",
              "          data: base64,\n",
              "        },\n",
              "      };\n",
              "\n",
              "      let percentDone = fileData.byteLength === 0 ?\n",
              "          100 :\n",
              "          Math.round((position / fileData.byteLength) * 100);\n",
              "      percent.textContent = `${percentDone}% done`;\n",
              "\n",
              "    } while (position < fileData.byteLength);\n",
              "  }\n",
              "\n",
              "  // All done.\n",
              "  yield {\n",
              "    response: {\n",
              "      action: 'complete',\n",
              "    }\n",
              "  };\n",
              "}\n",
              "\n",
              "scope.google = scope.google || {};\n",
              "scope.google.colab = scope.google.colab || {};\n",
              "scope.google.colab._files = {\n",
              "  _uploadFiles,\n",
              "  _uploadFilesContinue,\n",
              "};\n",
              "})(self);\n",
              "</script> "
            ]
          },
          "metadata": {}
        },
        {
          "output_type": "stream",
          "name": "stdout",
          "text": [
            "Saving tested.csv to tested.csv\n"
          ]
        }
      ]
    },
    {
      "cell_type": "code",
      "source": [
        "# Check the uploaded files\n",
        "import os\n",
        "print(os.listdir())\n",
        "\n",
        "# Define the path to the uploaded file\n",
        "file_path = 'tested.csv'  # Make sure this matches the uploaded file name\n",
        "\n",
        "# Load the dataset into a DataFrame\n",
        "df = pd.read_csv(file_path)\n",
        "\n",
        "# Display the first few rows of the DataFrame\n",
        "print(df.head())\n"
      ],
      "metadata": {
        "colab": {
          "base_uri": "https://localhost:8080/"
        },
        "id": "DUDJJ4xvxfLS",
        "outputId": "6e691d14-2647-4e11-a65d-934464d1bb26"
      },
      "execution_count": 3,
      "outputs": [
        {
          "output_type": "stream",
          "name": "stdout",
          "text": [
            "['.config', 'tested.csv', 'sample_data']\n",
            "   PassengerId  Survived  Pclass  \\\n",
            "0          892         0       3   \n",
            "1          893         1       3   \n",
            "2          894         0       2   \n",
            "3          895         0       3   \n",
            "4          896         1       3   \n",
            "\n",
            "                                           Name     Sex   Age  SibSp  Parch  \\\n",
            "0                              Kelly, Mr. James    male  34.5      0      0   \n",
            "1              Wilkes, Mrs. James (Ellen Needs)  female  47.0      1      0   \n",
            "2                     Myles, Mr. Thomas Francis    male  62.0      0      0   \n",
            "3                              Wirz, Mr. Albert    male  27.0      0      0   \n",
            "4  Hirvonen, Mrs. Alexander (Helga E Lindqvist)  female  22.0      1      1   \n",
            "\n",
            "    Ticket     Fare Cabin Embarked  \n",
            "0   330911   7.8292   NaN        Q  \n",
            "1   363272   7.0000   NaN        S  \n",
            "2   240276   9.6875   NaN        Q  \n",
            "3   315154   8.6625   NaN        S  \n",
            "4  3101298  12.2875   NaN        S  \n"
          ]
        }
      ]
    },
    {
      "cell_type": "code",
      "source": [
        "df.info()"
      ],
      "metadata": {
        "colab": {
          "base_uri": "https://localhost:8080/"
        },
        "id": "pvTBmWN-xvaK",
        "outputId": "cdadf60c-80a8-45b5-817a-f6b4bb26a474"
      },
      "execution_count": 4,
      "outputs": [
        {
          "output_type": "stream",
          "name": "stdout",
          "text": [
            "<class 'pandas.core.frame.DataFrame'>\n",
            "RangeIndex: 418 entries, 0 to 417\n",
            "Data columns (total 12 columns):\n",
            " #   Column       Non-Null Count  Dtype  \n",
            "---  ------       --------------  -----  \n",
            " 0   PassengerId  418 non-null    int64  \n",
            " 1   Survived     418 non-null    int64  \n",
            " 2   Pclass       418 non-null    int64  \n",
            " 3   Name         418 non-null    object \n",
            " 4   Sex          418 non-null    object \n",
            " 5   Age          332 non-null    float64\n",
            " 6   SibSp        418 non-null    int64  \n",
            " 7   Parch        418 non-null    int64  \n",
            " 8   Ticket       418 non-null    object \n",
            " 9   Fare         417 non-null    float64\n",
            " 10  Cabin        91 non-null     object \n",
            " 11  Embarked     418 non-null    object \n",
            "dtypes: float64(2), int64(5), object(5)\n",
            "memory usage: 39.3+ KB\n"
          ]
        }
      ]
    },
    {
      "cell_type": "markdown",
      "source": [
        "Let's see a few plots to see what we find\n",
        "\n",
        "The first plot show:\n",
        "The only survivors were women\n",
        "The age range is between 18 and 50 years old, so it is a young population\n"
      ],
      "metadata": {
        "id": "hOrxgprlx9Fg"
      }
    },
    {
      "cell_type": "code",
      "source": [
        "import matplotlib.pyplot as plt\n",
        "\n",
        "men_ages_survived = df[(df['Survived'] == 1) & (df['Sex'] == \"male\")][\"Age\"]\n",
        "men_survived = df[(df['Survived'] == 1) & (df['Sex'] == \"male\")][\"Survived\"]\n",
        "\n",
        "women_ages_survived = df[(df['Survived'] == 1) & (df['Sex'] == \"female\")][\"Age\"]\n",
        "women_survived = df[(df['Survived'] == 1) & (df['Sex'] == \"female\")][\"Survived\"]\n",
        "\n",
        "plt.scatter(men_ages_survived, men_survived, alpha=0.2, color='greenyellow', label=\"Men survived\")\n",
        "plt.scatter(women_ages_survived, women_survived, alpha=0.2, color='red', label=\"Women survived\")\n",
        "\n",
        "men_ages_not_survived = df[(df['Survived'] == 0) & (df['Sex'] == \"male\")][\"Age\"]\n",
        "men_not_survived = df[(df['Survived'] == 0) & (df['Sex'] == \"male\")][\"Survived\"]\n",
        "\n",
        "women_ages_not_survived = df[(df['Survived'] == 0) & (df['Sex'] == \"female\")][\"Age\"]\n",
        "women_not_survived = df[(df['Survived'] == 0) & (df['Sex'] == \"female\")][\"Survived\"]\n",
        "\n",
        "plt.scatter(men_ages_not_survived, men_not_survived, alpha=0.2, color='blue', label=\"Men died\")\n",
        "plt.scatter(women_ages_not_survived, women_not_survived, alpha=0.2, color='deeppink', label=\"Women died\")\n",
        "\n",
        "plt.xlabel(\"Age\")\n",
        "plt.ylabel(\"Survived\")\n",
        "plt.title(\"People Age\")\n",
        "plt.legend()\n",
        "plt.show()\n"
      ],
      "metadata": {
        "colab": {
          "base_uri": "https://localhost:8080/",
          "height": 472
        },
        "id": "uV0TI8qsx2eI",
        "outputId": "6afd5121-1a94-42ac-8430-02e087e78bd7"
      },
      "execution_count": 6,
      "outputs": [
        {
          "output_type": "display_data",
          "data": {
            "text/plain": [
              "<Figure size 640x480 with 1 Axes>"
            ],
            "image/png": "[encoded data removed]"
          },
          "metadata": {}
        }
      ]
    },
    {
      "cell_type": "markdown",
      "source": [
        "The second one show:\n",
        "\n",
        "The people with less number of parents/children/siblings/spouses aboard have more probability of survived"
      ],
      "metadata": {
        "id": "DTwXO6nqyuZy"
      }
    },
    {
      "cell_type": "code",
      "source": [
        "pclass_survived = df[(df['Survived'] == 1)][\"Parch\"]\n",
        "pclass_survived.hist()"
      ],
      "metadata": {
        "colab": {
          "base_uri": "https://localhost:8080/",
          "height": 447
        },
        "id": "9RLt2w9Iyq0r",
        "outputId": "4ec2c3e6-6519-4449-9e59-ad36e59e9d87"
      },
      "execution_count": 7,
      "outputs": [
        {
          "output_type": "execute_result",
          "data": {
            "text/plain": [
              "<Axes: >"
            ]
          },
          "metadata": {},
          "execution_count": 7
        },
        {
          "output_type": "display_data",
          "data": {
            "text/plain": [
              "<Figure size 640x480 with 1 Axes>"
            ],
            "image/png": "[encoded data removed]"
          },
          "metadata": {}
        }
      ]
    },
    {
      "cell_type": "code",
      "source": [
        "pclass_survived = df[(df['Survived'] == 1)][\"SibSp\"]\n",
        "pclass_survived.hist()"
      ],
      "metadata": {
        "colab": {
          "base_uri": "https://localhost:8080/",
          "height": 447
        },
        "id": "pJWK68Coy4k6",
        "outputId": "8a0fdeb2-96f3-451e-c2b4-1ad7aaf9fb4f"
      },
      "execution_count": 9,
      "outputs": [
        {
          "output_type": "execute_result",
          "data": {
            "text/plain": [
              "<Axes: >"
            ]
          },
          "metadata": {},
          "execution_count": 9
        },
        {
          "output_type": "display_data",
          "data": {
            "text/plain": [
              "<Figure size 640x480 with 1 Axes>"
            ],
            "image/png": "[encoded data removed]"
          },
          "metadata": {}
        }
      ]
    },
    {
      "cell_type": "markdown",
      "source": [
        "The people with more money have more probability of survived ?¶\n",
        "As everyone assume, the people who paid more (Fare column) there are those who were in first class, then those ones who were in second class, and so on. Lets see quick if this is true"
      ],
      "metadata": {
        "id": "pqEexKDpzG6G"
      }
    },
    {
      "cell_type": "code",
      "source": [
        "first_class_spent = df[(df['Survived'] == 1) & (df['Pclass'] == 1)][\"Fare\"].mean()\n",
        "second_class_spent = df[(df['Survived'] == 1) & (df['Pclass'] == 2)][\"Fare\"].mean()\n",
        "third_class_spent = df[(df['Survived'] == 1) & (df['Pclass'] == 3)][\"Fare\"].mean()\n",
        "\n",
        "print(f\"First class mean spent: {first_class_spent}\")\n",
        "print(f\"Second class mean spent: {second_class_spent}\")\n",
        "print(f\"Third class mean spent: {third_class_spent}\")\n"
      ],
      "metadata": {
        "colab": {
          "base_uri": "https://localhost:8080/"
        },
        "id": "9VQVEu-ezDQG",
        "outputId": "f7991511-1a3b-4778-ac6f-e5f4dc628e23"
      },
      "execution_count": 11,
      "outputs": [
        {
          "output_type": "stream",
          "name": "stdout",
          "text": [
            "First class mean spent: 115.591168\n",
            "Second class mean spent: 26.438750000000002\n",
            "Third class mean spent: 13.735129166666667\n"
          ]
        }
      ]
    },
    {
      "cell_type": "markdown",
      "source": [
        "#Nice, so now is a fact. Now we are available to see how many people survived per class\n"
      ],
      "metadata": {
        "id": "NChueFpbzgxH"
      }
    },
    {
      "cell_type": "code",
      "source": [
        "pclass_survived = df[(df['Survived'] == 1)][\"Pclass\"]\n",
        "pclass_survived.hist()"
      ],
      "metadata": {
        "colab": {
          "base_uri": "https://localhost:8080/",
          "height": 447
        },
        "id": "mCgNmnJyzYqc",
        "outputId": "03ca84e6-c665-4fc9-fe11-2a5b4c7ea03f"
      },
      "execution_count": 12,
      "outputs": [
        {
          "output_type": "execute_result",
          "data": {
            "text/plain": [
              "<Axes: >"
            ]
          },
          "metadata": {},
          "execution_count": 12
        },
        {
          "output_type": "display_data",
          "data": {
            "text/plain": [
              "<Figure size 640x480 with 1 Axes>"
            ],
            "image/png": "[encoded data removed]"
          },
          "metadata": {}
        }
      ]
    },
    {
      "cell_type": "markdown",
      "source": [
        "Prepare the data¶\n",
        "Fill the empty values, also I will drop some columns because I dont think they are significant and helps to simplify the model\n",
        "Split the dataset into trainset and testeset"
      ],
      "metadata": {
        "id": "oM3PD8Bzz6L9"
      }
    },
    {
      "cell_type": "code",
      "source": [
        "from sklearn.preprocessing import LabelEncoder\n",
        "\n",
        "encoder = LabelEncoder()\n",
        "\n",
        "titanic = df.copy()\n",
        "\n",
        "titanic.drop(\"Name\", axis=1, inplace=True) # because in this case doesn't matter\n",
        "titanic.drop(\"Cabin\", axis=1, inplace=True) # because there are to many null entries\n",
        "titanic.drop(\"Ticket\", axis=1, inplace=True)\n",
        "titanic[\"Sex\"] = encoder.fit_transform(titanic[\"Sex\"])\n",
        "titanic[\"Embarked\"] = encoder.fit_transform(titanic[\"Embarked\"])\n",
        "\n",
        "# Fill with the median value in both cases\n",
        "age_median = titanic[\"Age\"].median()\n",
        "fare_median = titanic[\"Fare\"].median()\n",
        "\n",
        "titanic[\"Age\"].fillna(age_median, inplace=True)\n",
        "titanic[\"Fare\"].fillna(age_median, inplace=True)\n",
        "\n",
        "titanic.info()"
      ],
      "metadata": {
        "colab": {
          "base_uri": "https://localhost:8080/"
        },
        "id": "mZkoudtAzwSp",
        "outputId": "53d139bf-851b-4af8-ef90-bd5f6f5efbb3"
      },
      "execution_count": 14,
      "outputs": [
        {
          "output_type": "stream",
          "name": "stdout",
          "text": [
            "<class 'pandas.core.frame.DataFrame'>\n",
            "RangeIndex: 418 entries, 0 to 417\n",
            "Data columns (total 9 columns):\n",
            " #   Column       Non-Null Count  Dtype  \n",
            "---  ------       --------------  -----  \n",
            " 0   PassengerId  418 non-null    int64  \n",
            " 1   Survived     418 non-null    int64  \n",
            " 2   Pclass       418 non-null    int64  \n",
            " 3   Sex          418 non-null    int64  \n",
            " 4   Age          418 non-null    float64\n",
            " 5   SibSp        418 non-null    int64  \n",
            " 6   Parch        418 non-null    int64  \n",
            " 7   Fare         418 non-null    float64\n",
            " 8   Embarked     418 non-null    int64  \n",
            "dtypes: float64(2), int64(7)\n",
            "memory usage: 29.5 KB\n"
          ]
        }
      ]
    },
    {
      "cell_type": "code",
      "source": [
        "from sklearn.model_selection import train_test_split\n",
        "\n",
        "X = titanic.drop(\"Survived\", axis=1)\n",
        "y = titanic[\"Survived\"].copy()\n",
        "\n",
        "xtrain, xtest, ytrain, ytest = train_test_split(X, y, test_size=0.2, random_state=42)"
      ],
      "metadata": {
        "id": "iv-L-wMA0ItQ"
      },
      "execution_count": 15,
      "outputs": []
    },
    {
      "cell_type": "markdown",
      "source": [
        "Train the model\n",
        "\n",
        "In this case we will use RandomForestClassifier. So first we train the model and then use cross_val_predict and predict_proba to get the predicted probabilities for each class. Instead of returning the predicted class labels, it will return a probability matrix where each row represents a sample of xtrain and each column represents the probability of that sample of belonging to a particular class.\n",
        "\n",
        "The point of cross_val_predict is to provide a way to evaluate model performance on validation data without data leaks."
      ],
      "metadata": {
        "id": "GwymPDoe0PKy"
      }
    },
    {
      "cell_type": "code",
      "source": [
        "from sklearn.ensemble import RandomForestClassifier\n",
        "from sklearn.model_selection import cross_val_predict\n",
        "\n",
        "forest_clf = RandomForestClassifier(random_state=42)\n",
        "forest_clf.fit(xtrain, ytrain)\n",
        "\n",
        "yprob_forest = cross_val_predict(forest_clf, xtrain, ytrain, cv=3, method=\"predict_proba\")\n",
        "yprob_forest = yprob_forest[:,1]"
      ],
      "metadata": {
        "id": "Ci6XjhZa0S3L"
      },
      "execution_count": 16,
      "outputs": []
    },
    {
      "cell_type": "markdown",
      "source": [
        "So, let's see the roc curve to see how it works our model. In a perfect world we want to have area = 1 in this plot"
      ],
      "metadata": {
        "id": "iFE2ZZOb0iSl"
      }
    },
    {
      "cell_type": "code",
      "source": [
        "from sklearn.metrics import roc_curve\n",
        "from sklearn.metrics import roc_auc_score\n",
        "\n",
        "def plot_roc_curve(fpr, tpr, label=None):\n",
        "    plt.plot(fpr, tpr, linewidth=2, label=label)\n",
        "    plt.plot([0, 1], [0, 1], 'k--') # Dashed diagonal\n",
        "    plt.xlabel(\"False Positive Rate\")\n",
        "    plt.ylabel(\"True Positive Rate (Recall)\")\n",
        "\n",
        "fpr_forest, tpr_forest, thresholds_forest = roc_curve(ytrain, yprob_forest)\n",
        "\n",
        "plot_roc_curve(fpr_forest, tpr_forest, \"Random Forest Trainset\")\n",
        "plt.legend(loc=\"lower right\")\n",
        "plt.show()\n",
        "\n",
        "auc = roc_auc_score(ytrain, yprob_forest)\n",
        "print(f\"AUC = {auc}\")"
      ],
      "metadata": {
        "colab": {
          "base_uri": "https://localhost:8080/",
          "height": 466
        },
        "id": "rJnKcBi90ek7",
        "outputId": "ef9c9f08-8188-4b08-ba2e-e3ea9c3c9f5d"
      },
      "execution_count": 17,
      "outputs": [
        {
          "output_type": "display_data",
          "data": {
            "text/plain": [
              "<Figure size 640x480 with 1 Axes>"
            ],
            "image/png": "[encoded data removed]"
          },
          "metadata": {}
        },
        {
          "output_type": "stream",
          "name": "stdout",
          "text": [
            "AUC = 1.0\n"
          ]
        }
      ]
    },
    {
      "cell_type": "markdown",
      "source": [
        "Well, we are in a perfect world, who would say it. This could means two things:\n",
        "\n",
        "Or the model is making a overfitting in the train test and then won't work as well in the testset\n",
        "Or the model works absolutely nice\n",
        "To see that we have to move on to the next step:\n",
        "\n",
        "4. Test the model in the testset\n",
        "Apparently the perfect functional model and that's it, this may be related to the fact that only the women survived and the size of the dataset\n",
        "\n"
      ],
      "metadata": {
        "id": "ofLEd2ZV0xNV"
      }
    },
    {
      "cell_type": "code",
      "source": [
        "predictions = forest_clf.predict_proba(xtest)[:,1]\n",
        "fpr_test, tpr_test, thresholds_test = roc_curve(ytest, predictions)\n",
        "\n",
        "plot_roc_curve(fpr_test, tpr_test, \"Random Forest Testset\")\n",
        "plt.legend(loc=\"lower right\")\n",
        "plt.show()\n",
        "\n",
        "auc = f\"AUC = {roc_auc_score(ytest, predictions)}\"\n",
        "print(auc)"
      ],
      "metadata": {
        "colab": {
          "base_uri": "https://localhost:8080/",
          "height": 466
        },
        "id": "hpU4vmT00qRc",
        "outputId": "4c00f64d-33f3-40b4-8911-65edfbac4793"
      },
      "execution_count": 18,
      "outputs": [
        {
          "output_type": "display_data",
          "data": {
            "text/plain": [
              "<Figure size 640x480 with 1 Axes>"
            ],
            "image/png": "[encoded data removed]"
          },
          "metadata": {}
        },
        {
          "output_type": "stream",
          "name": "stdout",
          "text": [
            "AUC = 1.0\n"
          ]
        }
      ]
    },
    {
      "cell_type": "code",
      "source": [
        "# Berapa jumlah penumpang titanic?\n",
        "len(df)"
      ],
      "metadata": {
        "colab": {
          "base_uri": "https://localhost:8080/"
        },
        "id": "dgJaAhNn079X",
        "outputId": "00540d0d-24c8-4539-84c0-5820a287650f"
      },
      "execution_count": 20,
      "outputs": [
        {
          "output_type": "execute_result",
          "data": {
            "text/plain": [
              "418"
            ]
          },
          "metadata": {},
          "execution_count": 20
        }
      ]
    },
    {
      "cell_type": "code",
      "source": [
        "len(df.loc[df.Sex == 'male'])"
      ],
      "metadata": {
        "colab": {
          "base_uri": "https://localhost:8080/"
        },
        "id": "-z9JYv212FU7",
        "outputId": "b0a0dce8-e08b-4dd2-e515-3140cdfd4807"
      },
      "execution_count": 21,
      "outputs": [
        {
          "output_type": "execute_result",
          "data": {
            "text/plain": [
              "266"
            ]
          },
          "metadata": {},
          "execution_count": 21
        }
      ]
    },
    {
      "cell_type": "code",
      "source": [
        "len(df.loc[df.Sex == 'female'])"
      ],
      "metadata": {
        "colab": {
          "base_uri": "https://localhost:8080/"
        },
        "id": "CZLsu6ia2L0s",
        "outputId": "e61b81cd-61da-4561-97d0-eb6a51c28778"
      },
      "execution_count": 22,
      "outputs": [
        {
          "output_type": "execute_result",
          "data": {
            "text/plain": [
              "152"
            ]
          },
          "metadata": {},
          "execution_count": 22
        }
      ]
    },
    {
      "cell_type": "code",
      "source": [
        "len(df.loc[(df.Sex == 'male') & (df.Survived == 0)])"
      ],
      "metadata": {
        "colab": {
          "base_uri": "https://localhost:8080/"
        },
        "id": "b-zp8jy72Vq7",
        "outputId": "bd33ff6a-80a0-4801-ba7e-cec2679b10cd"
      },
      "execution_count": 23,
      "outputs": [
        {
          "output_type": "execute_result",
          "data": {
            "text/plain": [
              "266"
            ]
          },
          "metadata": {},
          "execution_count": 23
        }
      ]
    },
    {
      "cell_type": "code",
      "source": [
        "len(df.loc[(df.Sex == 'female') & (df.Survived == 0)])"
      ],
      "metadata": {
        "colab": {
          "base_uri": "https://localhost:8080/"
        },
        "id": "ztoRuLUC2dJ-",
        "outputId": "77e3ca2e-6551-4cc9-a030-dba78f9ebea1"
      },
      "execution_count": 24,
      "outputs": [
        {
          "output_type": "execute_result",
          "data": {
            "text/plain": [
              "0"
            ]
          },
          "metadata": {},
          "execution_count": 24
        }
      ]
    },
    {
      "cell_type": "code",
      "source": [
        "len(df.loc[(df.Sex == 'female') & (df.Survived == 1)])"
      ],
      "metadata": {
        "colab": {
          "base_uri": "https://localhost:8080/"
        },
        "id": "mCO9AU8b2ldq",
        "outputId": "efa7b2fd-74ce-4409-e244-bc8a9e185f5b"
      },
      "execution_count": 25,
      "outputs": [
        {
          "output_type": "execute_result",
          "data": {
            "text/plain": [
              "152"
            ]
          },
          "metadata": {},
          "execution_count": 25
        }
      ]
    },
    {
      "cell_type": "code",
      "source": [
        "len(df.loc[(df.Sex == 'male') & (df.Survived == 1)])"
      ],
      "metadata": {
        "colab": {
          "base_uri": "https://localhost:8080/"
        },
        "id": "tSNHrjCS2ts4",
        "outputId": "3e1d81ce-bf19-47ac-94b2-2c117ec958b4"
      },
      "execution_count": 26,
      "outputs": [
        {
          "output_type": "execute_result",
          "data": {
            "text/plain": [
              "0"
            ]
          },
          "metadata": {},
          "execution_count": 26
        }
      ]
    },
    {
      "cell_type": "code",
      "source": [
        "len(df.loc[(df.Age == 34.5)])"
      ],
      "metadata": {
        "colab": {
          "base_uri": "https://localhost:8080/"
        },
        "id": "OJeSkXX521Qe",
        "outputId": "da3b7f0b-5dc3-40bb-cab0-4973b30f1676"
      },
      "execution_count": 27,
      "outputs": [
        {
          "output_type": "execute_result",
          "data": {
            "text/plain": [
              "1"
            ]
          },
          "metadata": {},
          "execution_count": 27
        }
      ]
    },
    {
      "cell_type": "code",
      "source": [
        "len(df.loc[(df.Age == 27.0)])"
      ],
      "metadata": {
        "colab": {
          "base_uri": "https://localhost:8080/"
        },
        "id": "yJBIp-3P2_Uo",
        "outputId": "b0ce4b22-4ffd-49f7-849b-9cde6a59724b"
      },
      "execution_count": 28,
      "outputs": [
        {
          "output_type": "execute_result",
          "data": {
            "text/plain": [
              "12"
            ]
          },
          "metadata": {},
          "execution_count": 28
        }
      ]
    },
    {
      "cell_type": "code",
      "source": [
        "len(df.loc[(df.Embarked == 'Q')])"
      ],
      "metadata": {
        "colab": {
          "base_uri": "https://localhost:8080/"
        },
        "id": "eGXadEkR3Eri",
        "outputId": "68889bdf-b8bc-4b6b-cd7b-492ad6a0e150"
      },
      "execution_count": 29,
      "outputs": [
        {
          "output_type": "execute_result",
          "data": {
            "text/plain": [
              "46"
            ]
          },
          "metadata": {},
          "execution_count": 29
        }
      ]
    },
    {
      "cell_type": "code",
      "source": [],
      "metadata": {
        "id": "rK4SMOLm3KN5"
      },
      "execution_count": null,
      "outputs": []
    }
  ]
}